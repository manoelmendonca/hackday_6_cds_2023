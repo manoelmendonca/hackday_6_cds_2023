{
 "cells": [
  {
   "cell_type": "markdown",
   "id": "3b527567-ba87-42e1-b169-dbd40cf0b47e",
   "metadata": {},
   "source": [
    "# Otimização de Preços Utilizando Regressão\n",
    "---"
   ]
  },
  {
   "cell_type": "markdown",
   "id": "b183bb79",
   "metadata": {},
   "source": [
    "### 6º HACKDAY DA COMUNIDADE DS - 21.22/10/2023"
   ]
  },
  {
   "cell_type": "markdown",
   "id": "d69bec7d",
   "metadata": {},
   "source": [
    "https://www.kaggle.com/competitions/product-price-predicition-20/leaderboard"
   ]
  },
  {
   "cell_type": "markdown",
   "id": "c9500716-d2f9-4efb-aa90-73127d2061c3",
   "metadata": {},
   "source": [
    "### Grupo: May The Data Be With You\n",
    "- Edilson Santos\n",
    "- Aroldo Brancalhão\n",
    "- Leonardo Rose\n",
    "- Manoel Mendonça\n",
    "- M. Alessandro Fonseca"
   ]
  },
  {
   "cell_type": "markdown",
   "id": "754bf1c7-9cba-40ea-8a40-b466019e632d",
   "metadata": {},
   "source": [
    "## Sumário\n",
    "\n",
    "- [ 0 - Procedimentos Iniciais](#0)\n",
    "- [ 1 - Descrição dos Dados](#1)\n",
    "- [ 2 - Feature Engineering](#2)\n",
    "- [ 3 - EDA](#3)\n",
    "- [ 4 - Pré-Processamento](#4)\n",
    "- [ 5 - Machine Learning](#5)\n",
    "- [ 6 - Previsão Teste](#6)\n",
    "- [ 7 - Performance do Negócio](#7.)\n",
    "- [ 8 - Próximos Passos](#8.)"
   ]
  },
  {
   "cell_type": "markdown",
   "id": "8f5c6018-fc1a-432c-8cb3-efbce2306176",
   "metadata": {},
   "source": [
    "---\n",
    "\n",
    "# Problema de Negócio\n",
    "\n",
    "A empresa Dados & Decotes atua em e-commerce no ramo de moda masculina e feminina com roupas, calçados e acessórios. O desafio atual da varejista é otimizar os preços dos seus produtos de modo a maximizar o lucro nas vendas.\n",
    "\n",
    "O atual sistema de precificação de produtos tem duas etapas. Primeiro é colocada margem fixa de lucro sobre o preço de custo do produto. Na segunda etapa, após 3 meses de avaliação do comportamento das vendas, os preços são ajustados de acordo com as quantidades demandadas de cada produto.\n",
    "\n",
    "Na terceira etapa de precificação, a ser implantada com base no resultado dos estudos de nossa Equipe de Cientistas de Dados, os preços dos produtos novos e recém lançados no mercado serão otimizado com base nas suas características, tais como marca, categoria, tecido e outras.\n",
    "\n"
   ]
  },
  {
   "cell_type": "markdown",
   "id": "764914e8-c748-4b9c-8658-7f2e26b93767",
   "metadata": {},
   "source": [
    "## Objetivo\n",
    "\n",
    "Como analistas e cientistas de dados da Dados & Decotes, o desafio da equipe é encontrar quais deveriam ser estes novos preços, com base neste conjunto histórico de dados contendo os preços e as características dos produtos que alcançaram o maior sucesso nas vendas decorrente dos cálculos de elasticidade de preço.\n",
    "\n",
    "No presente trabalho, as seguintes ferramentas foram utilizadas:\n",
    "\n",
    "- Modelo Utilizado - Random Forest\n",
    "- Métrica - SMAPE - 9.11%"
   ]
  },
  {
   "cell_type": "markdown",
   "id": "54217ca5-d090-4212-ab5f-3ca859e9e963",
   "metadata": {},
   "source": [
    "<a id='0'></a>\n",
    "# 0. PROCEDIMENTOS INICIAIS"
   ]
  },
  {
   "cell_type": "markdown",
   "id": "973b8da6",
   "metadata": {},
   "source": [
    "## 0.1 Importação de Bibliotecas"
   ]
  },
  {
   "cell_type": "code",
   "execution_count": null,
   "id": "205137f3-f697-4e84-8afa-7074f3cf8dc1",
   "metadata": {},
   "outputs": [],
   "source": [
    "import ast\n",
    "import optuna\n",
    "import inflection\n",
    "import warnings\n",
    "\n",
    "import pandas                                             as pd\n",
    "import numpy                                              as np\n",
    "import matplotlib.pyplot                                  as plt\n",
    "import seaborn                                            as sns\n",
    "import sklearn.cluster                                    as ct\n",
    "import sklearn.metrics                                    as mt\n",
    "\n",
    "from sklearn.preprocessing                                import TargetEncoder\n",
    "from sklearn.model_selection                              import train_test_split\n",
    "\n",
    "from sklearn.metrics                                      import mean_absolute_error, mean_absolute_percentage_error, mean_squared_error \n",
    "from sklearn.ensemble                                     import RandomForestRegressor, VotingRegressor\n",
    "from sklearn.linear_model                                 import LinearRegression\n",
    "from xgboost                                              import XGBRegressor\n",
    "from catboost                                             import CatBoostRegressor\n",
    "from lightgbm                                             import LGBMRegressor\n",
    "\n",
    "from scipy.stats                                          import chi2_contingency\n",
    "\n",
    "plt.style.use('ggplot')\n",
    "sns.set_style('darkgrid')\n",
    "\n",
    "pd.options.display.max_columns = 999\n",
    "pd.options.display.max_rows = 999\n",
    "\n",
    "warnings.filterwarnings('ignore')"
   ]
  },
  {
   "cell_type": "markdown",
   "id": "7c5edbfd-fb97-472c-8c22-0f2a1dd8a515",
   "metadata": {
    "jp-MarkdownHeadingCollapsed": true
   },
   "source": [
    "## 0.2 Funções Auxiliares"
   ]
  },
  {
   "cell_type": "markdown",
   "id": "6b0047de",
   "metadata": {},
   "source": [
    "### Coletânea de Funções"
   ]
  },
  {
   "cell_type": "code",
   "execution_count": null,
   "id": "f7a20435-cc89-4ab8-9cbd-32fe2c272b17",
   "metadata": {},
   "outputs": [],
   "source": [
    "# Converte todas as KEYs para maiúsculas.\n",
    "def newDict( inDict ):\n",
    "    lista = list()\n",
    "    for item in inDict:\n",
    "        for key in item:\n",
    "            item2 = {}\n",
    "            item2[ key.upper() ] = item[key]\n",
    "            lista.append( item2 )\n",
    "    return lista\n",
    "\n",
    "#Função Customizada da Métrica SMAPE\n",
    "def smape(y_pred, y_test):\n",
    "\n",
    "    smape = 100 / len(y_test) * np.sum(2 * np.abs(y_pred - y_test) / (np.abs(y_test) + np.abs(y_pred)))\n",
    "    return smape\n",
    "\n",
    "#Função para computar todas as metricas\n",
    "def compute_metrics(model_name, y_pred, y_test):\n",
    "\n",
    "    y_pred = np.expm1(y_pred)\n",
    "    y_test = np.expm1(y_test)\n",
    "                     \n",
    "\n",
    "    smape = 100 / len(y_test) * np.sum(2 * np.abs(y_pred - y_test) / (np.abs(y_test) + np.abs(y_pred)))\n",
    "    mae =mean_absolute_error(y_pred, y_test)\n",
    "    mape = mean_absolute_percentage_error(y_pred, y_test)\n",
    "    rmse = mean_squared_error(y_pred, y_test, squared=False)\n",
    "\n",
    "    df = pd.DataFrame({\n",
    "        'Model':model_name,\n",
    "        'MAE':mae,\n",
    "        'MAPE':mape,\n",
    "        'RMSE':rmse,\n",
    "        'SMAPE':smape\n",
    "    }, index=[0])\n",
    "\n",
    "    return df\n",
    "\n",
    "#Função para montar a submissão\n",
    "def make_submission(X_test_2, y_pred_test):\n",
    "\n",
    "    path = 'http://menezes.mendonca.nom.br/datasets/hackday6_cds/test.json'\n",
    "    test_raw = pd.read_json(path, orient='split')\n",
    "    X_test_submission = X_test_2.copy()\n",
    "    X_test_submission['pid'] = test_raw['pid']\n",
    "    X_test_submission['actual_price'] = y_pred_test\n",
    "    df_submission = X_test_submission[['pid','actual_price']]\n",
    "\n",
    "    return df_submission\n",
    "\n",
    "#Função para analisar Correlação de features categóricas\n",
    "def cramers_v(x, y):\n",
    "    confusion_matrix = pd.crosstab(x, y)\n",
    "    chi2 = chi2_contingency(confusion_matrix)[0]\n",
    "    n = confusion_matrix.sum().sum()\n",
    "    phi2 = chi2 / n\n",
    "    r, k = confusion_matrix.shape\n",
    "    phi2corr = max(0, phi2 - ((k - 1) * (r - 1)) / (n - 1))\n",
    "    rcorr = r - ((r - 1) ** 2) / (n - 1)\n",
    "    kcorr = k - ((k - 1) ** 2) / (n - 1)\n",
    "    return np.sqrt(phi2corr / min((kcorr - 1), (rcorr - 1)))"
   ]
  },
  {
   "cell_type": "markdown",
   "metadata": {},
   "source": [
    "### Função para montar dados de TESTE"
   ]
  },
  {
   "cell_type": "code",
   "execution_count": null,
   "metadata": {},
   "outputs": [],
   "source": [
    "#Função para aplicar todas as limpezas nos dados de TESTE\n",
    "def clean_test( X_test_2, onehot, te ):\n",
    "\n",
    "    # 2.1. Feature Eng: contar número de produtos\n",
    "    X_test_2['product_details_count'] = X_test_2['product_details'].apply(lambda x: len(ast.literal_eval(x)) )\n",
    "    # 2.1. Feature Eng: detalhes -> colunas\n",
    "    X_test_2['product_details'] = X_test_2['product_details'].str.lower()\n",
    "    X_test_2['product_details'] = X_test_2['product_details'].apply(lambda x: ast.literal_eval(x))\n",
    "    X_test_2['product_details'] = X_test_2['product_details'].apply(lambda x: newDict(x))\n",
    "\n",
    "    # 2.1. Feature Eng: busca todas as chaves\n",
    "    all_keys = set()\n",
    "    for data in X_test_2['product_details']:\n",
    "        for item in data:\n",
    "            if len( str(item.keys()) ) < 17:  # evita KEY='' ou =' '\n",
    "                continue\n",
    "            all_keys.update(item.keys())\n",
    "    \n",
    "    for key in all_keys:\n",
    "        X_test_2[key] = X_test_2['product_details'].apply(lambda x: next((item[key] for item in x if key in item), np.nan))\n",
    "    \n",
    "    X_test_2.drop('product_details', axis=1, inplace=True)\n",
    "\n",
    "    # 2.1. Feature Eng: selecionar as melhores colunas\n",
    "    details_to_maintain_test = ['pid', '_id',\n",
    "                       'average_rating',\n",
    "                       'number_of_reviews',\n",
    "                       'brand',\n",
    "                       'category',\n",
    "                       'crawled_at',\n",
    "                       'description',\n",
    "                       'images',\n",
    "                       'out_of_stock',\n",
    "                       'avg_delivery_time_days',\n",
    "                       'seller',\n",
    "                       'sub_category',\n",
    "                       'fabrication_time',\n",
    "                       'title',\n",
    "                       'product_details_count',\n",
    "                        \"BRAND COLOR\",\n",
    "                        \"BRAND FIT\",\n",
    "                        \"CLOSURE\",\n",
    "                        \"COUNTRY OF ORIGIN\",\n",
    "                        \"COLOR\",\n",
    "                        \"FABRIC\",\n",
    "                        \"FABRIC CARE\",\n",
    "                        \"FIT\",\n",
    "                        \"GENERIC NAME\",\n",
    "                        \"HOODED\",\n",
    "                        \"IDEAL FOR\",\n",
    "                        \"MODEL NAME\",\n",
    "                        \"NECK\",\n",
    "                        \"NECK TYPE\",\n",
    "                        \"NUMBER OF CONTENTS IN SALES PACKAGE\",\n",
    "                        \"OCCASION\",\n",
    "                        \"OTHER DETAILS\",\n",
    "                        \"PACK OF\",\n",
    "                        \"PATTERN\",\n",
    "                        \"POCKETS\",\n",
    "                        \"REVERSIBLE\",\n",
    "                        \"SALES PACKAGE\",\n",
    "                        \"SECONDARY COLOR\",\n",
    "                        \"SLEEVE\",\n",
    "                        \"SLEEVE TYPE\",\n",
    "                        \"SIZE\",\n",
    "                        \"STYLE CODE\",\n",
    "                        \"SUITABLE FOR\",\n",
    "                        \"TYPE\"\n",
    "                        ]\n",
    "    X_test_2 = X_test_2[details_to_maintain_test]\n",
    "\n",
    "    # 2.2. Feature Eng: criar coluna \"número de imagens\"\n",
    "    X_test_2['images'] = X_test_2['images'].apply(lambda x: ast.literal_eval(x))\n",
    "    X_test_2['number_images'] = X_test_2['images'].apply(lambda x: len(x))\n",
    "\n",
    "    # 2.3. Feature Eng: Coluna Fabric\n",
    "    X_test_2['has_cotton']    = X_test_2['FABRIC'].str.contains('cott', case=False, na=False)\n",
    "    X_test_2['has_polyester'] = X_test_2['FABRIC'].str.contains('poly', case=False, na=False)\n",
    "    X_test_2['has_lycra']     = X_test_2['FABRIC'].str.contains('lycr', case=False, na=False)\n",
    "    \n",
    "    # 2.3. Feature Eng: Coluna Brand Fit\n",
    "    X_test_2['is_regular'] = X_test_2['BRAND FIT'].str.contains('reg', case=False, na=False)\n",
    "    X_test_2['is_slim']    = X_test_2['BRAND FIT'].str.contains('slim', case=False, na=False)\n",
    "    X_test_2['is_fit']     = X_test_2['BRAND FIT'].str.contains('fit', case=False, na=False)\n",
    "\n",
    "    # 2.4. Feature Eng: Preencher NaNs\n",
    "    X_test_2 = X_test_2.fillna(0)\n",
    "\n",
    "    # 3.5. Filtrar colunas\n",
    "    cols_drop = ['_id','crawled_at','description','title','images']\n",
    "    X_test_2 = X_test_2.drop(cols_drop, axis=1)\n",
    "\n",
    "    # 3.5. renomear colunas\n",
    "    X_test_2.columns = X_test_2.columns.map(lambda x: inflection.parameterize(x, separator='_'))\n",
    "\n",
    "    # 4.1. One-Hot Encoding\n",
    "    X_test_2 = pd.get_dummies(X_test_2, columns=onehot)\n",
    "    X_test_2.columns = X_test_2.columns.map(lambda x: inflection.parameterize(x, separator='_'))\n",
    "\n",
    "    # 4.2. Target Encoding (para as features do tipo string)\n",
    "    te_cols = ['brand','seller','sub_category',\"fabric\",\n",
    "                        \"brand_color\",\n",
    "                        \"closure\",\n",
    "                        \"other_details\",\n",
    "                        \"sales_package\",\n",
    "                        \"sleeve_type\",\n",
    "                        \"model_name\",\n",
    "                        \"fabric_care\",\n",
    "                        \"hooded\",\n",
    "                        \"pockets\",\n",
    "                        \"pack_of\",\n",
    "                        \"secondary_color\",\n",
    "                        \"style_code\",\n",
    "                        \"ideal_for\",\n",
    "                        \"reversible\",\n",
    "                        \"neck\",\n",
    "                        \"generic_name\",\n",
    "                        \"brand_fit\",\n",
    "                        \"pattern\",\n",
    "                        \"sleeve\",\n",
    "                        \"country_of_origin\",\n",
    "                        \"size\",\n",
    "                        \"fit\",\n",
    "                        \"number_of_contents_in_sales_package\",\n",
    "                        \"suitable_for\",\n",
    "                        \"occasion\",\n",
    "                        \"color\",\n",
    "                        \"neck_type\",\n",
    "                        \"type\"]\n",
    "\n",
    "    # 4.2. Transf.STR, aplica TE\n",
    "    X_test_2[te_cols] = X_test_2[te_cols].astype(str)\n",
    "    X_test_2[te_cols] = te.transform(X_test_2[te_cols])\n",
    "\n",
    "    X_test_2 = X_test_2.drop(['pid'], axis=1).copy()\n",
    "\n",
    "    return X_test_2"
   ]
  },
  {
   "cell_type": "markdown",
   "id": "55fc7a9a",
   "metadata": {},
   "source": [
    "### Função de Otimização K-Means"
   ]
  },
  {
   "cell_type": "code",
   "execution_count": null,
   "id": "225edeca",
   "metadata": {},
   "outputs": [],
   "source": [
    "# CLUSTERIZAÇÃO: Otimização de K-Means\n",
    "# Entrada:\n",
    "#     X . . . : Dataset a ser \"clusterizado\"\n",
    "#     features: lista de features que comandarão a clusterização\n",
    "#     min_k . : num.mínimo de clusters\n",
    "#     max_k . : num.máximo de clusters\n",
    "#\n",
    "# Saída: o modelo otimizado\n",
    "\n",
    "def kmeans_fit( X, features, min_k, max_k ):\n",
    "\n",
    "    X_kmeans = X.loc[ :, features ]\n",
    "\n",
    "    n_clusters = np.arange( min_k, max_k, 1 )\n",
    "    best_ss = 0\n",
    "    best_k = 0\n",
    "    best_kmeans_model = None\n",
    "    first_time = True\n",
    "    ss_list = []\n",
    "\n",
    "    for c in n_clusters:\n",
    "        # define model\n",
    "        kmeans = ct.KMeans( \n",
    "            n_clusters=c, \n",
    "            init='random', \n",
    "            n_init=10, \n",
    "            random_state=0\n",
    "        )\n",
    "\n",
    "        # FIT & PREDICT\n",
    "        labels = kmeans.fit_predict( X_kmeans )\n",
    "\n",
    "        # performance (the bigger, the better)\n",
    "        ss_avg = mt.silhouette_score( X_kmeans, labels)\n",
    "        ss_list.append( ss_avg )\n",
    "\n",
    "        # Compare result\n",
    "        if first_time or ss_avg > best_ss:\n",
    "            first_time = False\n",
    "            best_ss = ss_avg\n",
    "            best_k = c\n",
    "            best_kmeans_model = kmeans\n",
    "            print(\">>> BEST - N.Cluster={}  Silhouette={:.6f}\".format(best_k, best_ss))\n",
    "\n",
    "        #print( \"n_clusters={}  - The Avg SS: {}\".format( c, ss_avg ) )\n",
    "\n",
    "    print('---- BEST RESULT ---')\n",
    "    print(\"Number of Cluster={}  Silhouette={:.6f}\".format(best_k, best_ss))\n",
    "\n",
    "    plt.plot( n_clusters, ss_list, marker='o' )\n",
    "    plt.xlabel( 'Número de Clusters K' )\n",
    "    plt.ylabel( 'Silhouette Score Average' )\n",
    "    print( best_kmeans_model )\n",
    "\n",
    "    # retorna: modelo + silhouete_score\n",
    "    return [ best_kmeans_model, best_ss ]"
   ]
  },
  {
   "cell_type": "markdown",
   "id": "c8f001c8-2eab-4278-8fe6-2a851b413c2c",
   "metadata": {},
   "source": [
    "## 0.3 Carregar Dados"
   ]
  },
  {
   "cell_type": "code",
   "execution_count": null,
   "id": "04db2f9e-262f-470e-bbf9-011fa2a3c5d9",
   "metadata": {},
   "outputs": [],
   "source": [
    "# Dados de Treino\n",
    "path = 'http://menezes.mendonca.nom.br/datasets/hackday6_cds/train.json'\n",
    "df_raw = pd.read_json(path, orient='split')\n"
   ]
  },
  {
   "cell_type": "markdown",
   "id": "f35790a4-b7e2-448f-bfe4-16e2fb5ff550",
   "metadata": {},
   "source": [
    "<a id='1'></a>\n",
    "# 1. DESCRIÇÃO DOS DADOS"
   ]
  },
  {
   "cell_type": "code",
   "execution_count": null,
   "id": "4ba0fa4d-396f-4d3a-9b9b-844ddb541c65",
   "metadata": {},
   "outputs": [],
   "source": [
    "df_raw.sample(3).T"
   ]
  },
  {
   "cell_type": "code",
   "execution_count": null,
   "id": "5349e1de-4c44-4cdd-a08d-35439e7ed864",
   "metadata": {},
   "outputs": [],
   "source": [
    "df_raw.info()"
   ]
  },
  {
   "cell_type": "code",
   "execution_count": null,
   "id": "dbe405cd-d157-4eb5-b7e5-339404b9effa",
   "metadata": {},
   "outputs": [],
   "source": [
    "df_raw.describe()"
   ]
  },
  {
   "cell_type": "code",
   "execution_count": null,
   "id": "7f4708cc-55f6-468f-af71-96212d8259a5",
   "metadata": {},
   "outputs": [],
   "source": [
    "df_raw.nunique()"
   ]
  },
  {
   "cell_type": "markdown",
   "id": "ccf2e732-26ff-499f-a032-3afa88cf8cd2",
   "metadata": {},
   "source": [
    "<a id='2'></a>\n",
    "# 2. FEATURE ENGINEERING"
   ]
  },
  {
   "cell_type": "code",
   "execution_count": null,
   "id": "477f5663-fc17-4a07-8f08-a69ceaba28a0",
   "metadata": {},
   "outputs": [],
   "source": [
    "df1 = df_raw.copy()"
   ]
  },
  {
   "cell_type": "markdown",
   "id": "ea0a24da-d5e4-4693-a55d-6fa61753733b",
   "metadata": {},
   "source": [
    "## 2.1 Coluna \"Product Details\""
   ]
  },
  {
   "cell_type": "markdown",
   "id": "12c53fec",
   "metadata": {},
   "source": [
    "### Amostra de \"product_details\""
   ]
  },
  {
   "cell_type": "code",
   "execution_count": null,
   "id": "937a96dd",
   "metadata": {},
   "outputs": [],
   "source": [
    "df1['product_details'][0]"
   ]
  },
  {
   "cell_type": "markdown",
   "id": "1c96ce1d-79ac-485c-830b-80b39644730c",
   "metadata": {},
   "source": [
    "### Contar Número de Produtos"
   ]
  },
  {
   "cell_type": "code",
   "execution_count": null,
   "id": "39612f27-b216-41aa-b5a6-d0ef9e3db745",
   "metadata": {},
   "outputs": [],
   "source": [
    "#Usar a função ast.literal_eval() para transformar expressões literais em dicionários\n",
    "df1['product_details_count'] = df1['product_details'].apply(lambda x: len(ast.literal_eval(x)) )"
   ]
  },
  {
   "cell_type": "markdown",
   "id": "5d1cdcc2-7157-4e06-9944-14b1f8373944",
   "metadata": {},
   "source": [
    "### Transformar detalhes dos produtos em colunas"
   ]
  },
  {
   "cell_type": "code",
   "execution_count": null,
   "id": "edab8afd-4602-4e2e-84bb-82515421a4e3",
   "metadata": {},
   "outputs": [],
   "source": [
    "# Forçar tudo em minúsculas\n",
    "df1['product_details'] = df1['product_details'].str.lower()\n",
    "# Usar a função ast.literal_eval() para transformar expressões literais em dicionários\n",
    "df1['product_details'] = df1['product_details'].apply(lambda x: ast.literal_eval(x))"
   ]
  },
  {
   "cell_type": "code",
   "execution_count": null,
   "id": "65bb2482",
   "metadata": {},
   "outputs": [],
   "source": [
    "# Converte todas as KEYs para maiúsculas.\n",
    "df1['product_details'] = df1['product_details'].apply(lambda x: newDict(x))"
   ]
  },
  {
   "cell_type": "code",
   "execution_count": null,
   "id": "5f9332d0",
   "metadata": {},
   "outputs": [],
   "source": [
    "df1.isna().sum()"
   ]
  },
  {
   "cell_type": "code",
   "execution_count": null,
   "id": "dca5dfdd-c582-48b4-9a1b-13574fcf1203",
   "metadata": {},
   "outputs": [],
   "source": [
    "# Buscar por todas as chaves dos dicionários\n",
    "all_keys = set()\n",
    "for data in df1['product_details']:\n",
    "    for item in data:\n",
    "        if len( str(item.keys()) ) < 17:  # evita KEY='' ou =' '\n",
    "            continue\n",
    "        all_keys.update(item.keys())\n",
    "\n",
    "# Para cada chave, crie uma coluna no dataframe e...\n",
    "# verifique, linha por linha, se essa coluna está presente na chave da dicionário...\n",
    "# caso esteja no dicionário, insira o valor da chave, senão coloque NAN\n",
    "for key in all_keys:\n",
    "    df1[key] = df1['product_details'].apply(lambda x: next((item[key] for item in x if key in item), np.nan))\n",
    "    \n",
    "# Drope a coluna usada\n",
    "df1.drop('product_details', axis=1, inplace=True)\n"
   ]
  },
  {
   "cell_type": "code",
   "execution_count": null,
   "id": "b837462e",
   "metadata": {},
   "outputs": [],
   "source": [
    "#Renomear colunas duplicadas\n",
    "#df1.rename(columns={'Pack of': 'Pack Of 2'}, inplace=True)\n",
    "\n",
    "#df1['Pack Of'].fillna(df1['Pack Of 2'], inplace=True)\n",
    "\n",
    "#df1.drop('Pack Of 2', axis=1, inplace=True)"
   ]
  },
  {
   "cell_type": "code",
   "execution_count": null,
   "id": "4abdf236-5220-47df-9ce5-932936b2ac59",
   "metadata": {},
   "outputs": [],
   "source": [
    "df1.sample(3).T"
   ]
  },
  {
   "cell_type": "markdown",
   "id": "4b5af9cf-ec20-4c5e-b689-84deb835f7d3",
   "metadata": {},
   "source": [
    "### Selecionar As Melhores Colunas"
   ]
  },
  {
   "cell_type": "code",
   "execution_count": null,
   "id": "c2ae0cee",
   "metadata": {},
   "outputs": [],
   "source": [
    "df1.shape"
   ]
  },
  {
   "cell_type": "code",
   "execution_count": null,
   "id": "b927fe56-40b9-4562-86b1-47d44953faaf",
   "metadata": {},
   "outputs": [],
   "source": [
    "df1.isna().sum()"
   ]
  },
  {
   "cell_type": "code",
   "execution_count": null,
   "id": "0fb8979e-1a41-4c32-a172-39841a1ddacd",
   "metadata": {},
   "outputs": [],
   "source": [
    "#Utilizar apenas colunas abaixo de 20.000 NaNs\n",
    "count_nan = pd.DataFrame(df1.isna().sum()).rename(columns={0:'Numero NaN'})\n",
    "count_nan.loc[count_nan['Numero NaN'] < 20000,:]"
   ]
  },
  {
   "cell_type": "code",
   "execution_count": null,
   "id": "95fdfef2-223e-4450-9ec1-ea10ef79b58e",
   "metadata": {},
   "outputs": [],
   "source": [
    "details_to_maintain = ['pid', '_id',\n",
    "                       'average_rating',\n",
    "                       'number_of_reviews',\n",
    "                       'brand',\n",
    "                       'category',\n",
    "                       'crawled_at',\n",
    "                       'description',\n",
    "                       'images',\n",
    "                       'out_of_stock',\n",
    "                       'avg_delivery_time_days',\n",
    "                       'seller',\n",
    "                       'sub_category',\n",
    "                       'fabrication_time',\n",
    "                       'title',\n",
    "                       'actual_price',\n",
    "                       'product_details_count',\n",
    "                        \"BRAND COLOR\",\n",
    "                        \"BRAND FIT\",\n",
    "                        \"CLOSURE\",\n",
    "                        \"COUNTRY OF ORIGIN\",\n",
    "                        \"COLOR\",\n",
    "                        \"FABRIC\",\n",
    "                        \"FABRIC CARE\",\n",
    "                        \"FIT\",\n",
    "                        \"GENERIC NAME\",\n",
    "                        \"HOODED\",\n",
    "                        \"IDEAL FOR\",\n",
    "                        \"MODEL NAME\",\n",
    "                        \"NECK\",\n",
    "                        \"NECK TYPE\",\n",
    "                        \"NUMBER OF CONTENTS IN SALES PACKAGE\",\n",
    "                        \"OCCASION\",\n",
    "                        \"OTHER DETAILS\",\n",
    "                        \"PACK OF\",\n",
    "                        \"PATTERN\",\n",
    "                        \"POCKETS\",\n",
    "                        \"REVERSIBLE\",\n",
    "                        \"SALES PACKAGE\",\n",
    "                        \"SECONDARY COLOR\",\n",
    "                        \"SLEEVE\",\n",
    "                        \"SLEEVE TYPE\",\n",
    "                        \"SIZE\",\n",
    "                        \"STYLE CODE\",\n",
    "                        \"SUITABLE FOR\",\n",
    "                        \"TYPE\"\n",
    "                        ]\n",
    "\n",
    "\n",
    "df1 = df1[details_to_maintain]"
   ]
  },
  {
   "cell_type": "code",
   "execution_count": null,
   "id": "d4f53e0e-4c88-40c6-b5fe-069e775df649",
   "metadata": {},
   "outputs": [],
   "source": [
    "df1.shape"
   ]
  },
  {
   "cell_type": "markdown",
   "id": "ee80ea99-5783-448b-bacd-932cd8bb0493",
   "metadata": {},
   "source": [
    "## 2.2 Criar coluna \"Número de Imagens\""
   ]
  },
  {
   "cell_type": "code",
   "execution_count": null,
   "id": "ebbb09c8-2603-4222-9907-ad6b5861595f",
   "metadata": {},
   "outputs": [],
   "source": [
    "#Coluna images\n",
    "df1['images'] = df1['images'].apply(lambda x: ast.literal_eval(x))\n",
    "df1['number_images'] = df1['images'].apply(lambda x: len(x))\n",
    "df1 = df1.drop(['images'],axis=1)"
   ]
  },
  {
   "cell_type": "markdown",
   "id": "1f332468-1136-4cd5-8274-6a346a5c18d1",
   "metadata": {},
   "source": [
    "## 2.3 Criar Colunas com base nos Tecidos e no Tamanho"
   ]
  },
  {
   "cell_type": "code",
   "execution_count": null,
   "id": "b0305260-cbab-4c39-91b8-eb88a43d4b7c",
   "metadata": {},
   "outputs": [],
   "source": [
    "#Coluna Fabric\n",
    "df1['has_cotton']    = df1['FABRIC'].str.contains('cott', case=False, na=False)\n",
    "df1['has_polyester'] = df1['FABRIC'].str.contains('poly', case=False, na=False)\n",
    "df1['has_lycra']     = df1['FABRIC'].str.contains('lycr', case=False, na=False)\n",
    "\n",
    "#Coluna Brand Fit\n",
    "df1['is_regular'] = df1['BRAND FIT'].str.contains('reg', case=False, na=False)\n",
    "df1['is_slim']    = df1['BRAND FIT'].str.contains('slim', case=False, na=False)\n",
    "df1['is_fit']     = df1['BRAND FIT'].str.contains('fit', case=False, na=False)"
   ]
  },
  {
   "cell_type": "code",
   "execution_count": null,
   "id": "da5f616b",
   "metadata": {},
   "outputs": [],
   "source": [
    "df1.shape"
   ]
  },
  {
   "cell_type": "markdown",
   "id": "a1ea996b-8a4b-4183-8882-97812f964b7d",
   "metadata": {},
   "source": [
    "## 2.4 Preencher NaNs"
   ]
  },
  {
   "cell_type": "code",
   "execution_count": null,
   "id": "da1520d1-4dca-4495-a696-aaaa1631f8a7",
   "metadata": {},
   "outputs": [],
   "source": [
    "df1 = df1.dropna(subset='actual_price')"
   ]
  },
  {
   "cell_type": "code",
   "execution_count": null,
   "id": "7e9198ad-089d-49cc-b5d0-2df85497a8f5",
   "metadata": {},
   "outputs": [],
   "source": [
    "df1 = df1.fillna(0)"
   ]
  },
  {
   "cell_type": "code",
   "execution_count": null,
   "id": "cb51d3f2-388a-4063-9f4f-33b05945e8f6",
   "metadata": {},
   "outputs": [],
   "source": [
    "df1.isna().sum()"
   ]
  },
  {
   "cell_type": "code",
   "execution_count": null,
   "id": "1d7470a3-4e6c-4292-93a2-d90c53b4d65f",
   "metadata": {},
   "outputs": [],
   "source": [
    "df1.nunique()"
   ]
  },
  {
   "cell_type": "code",
   "execution_count": null,
   "id": "05f3c3bd-6645-475d-8930-c54f8ef3ce57",
   "metadata": {},
   "outputs": [],
   "source": [
    "df1.shape"
   ]
  },
  {
   "cell_type": "code",
   "execution_count": null,
   "id": "982f6167",
   "metadata": {},
   "outputs": [],
   "source": [
    "df1['CLOSURE'].unique()"
   ]
  },
  {
   "cell_type": "code",
   "execution_count": null,
   "metadata": {},
   "outputs": [],
   "source": [
    "df1['FIT'].unique()"
   ]
  },
  {
   "cell_type": "markdown",
   "id": "9e684fba-8fd3-4688-8f1a-c51321b4ec6a",
   "metadata": {},
   "source": [
    "<a id='3'></a>\n",
    "# 3. EDA - Análise Exploratória"
   ]
  },
  {
   "cell_type": "markdown",
   "id": "6434f4a8-569d-4a68-a6fe-972dd6a72091",
   "metadata": {},
   "source": [
    "## 3.1 Analise Univariada"
   ]
  },
  {
   "cell_type": "code",
   "execution_count": null,
   "id": "72955748-27b4-4ec1-8de8-28fb5985c2f8",
   "metadata": {},
   "outputs": [],
   "source": [
    "#Separar dataframes em numerico e categorico\n",
    "numerical_feat = df1.select_dtypes(include=['float','int'])\n",
    "categorical_feat = df1.select_dtypes(exclude=['float','int','datetime'])"
   ]
  },
  {
   "cell_type": "code",
   "execution_count": null,
   "id": "04576c27-5582-450a-b71d-d09227dd53ac",
   "metadata": {},
   "outputs": [],
   "source": [
    "numerical_feat.hist(bins=50, figsize=(14,9));"
   ]
  },
  {
   "cell_type": "code",
   "execution_count": null,
   "id": "eaa34baa-842f-4302-b0a1-a4031219d2e6",
   "metadata": {},
   "outputs": [],
   "source": [
    "columns_to_plot = numerical_feat.columns\n",
    "\n",
    "fig, axes = plt.subplots(nrows=3, ncols=3, figsize=(30, 15))\n",
    "fig.subplots_adjust(hspace=0.5)\n",
    "\n",
    "#Usar o divmod para encontrar os axes \n",
    "for i, column in enumerate(columns_to_plot):\n",
    "    row, col = divmod(i, 3)\n",
    "    ax = axes[row, col]\n",
    "    #plotar todos os boxplots\n",
    "    sns.boxplot(df1, x=column, ax=ax)\n",
    "    ax.set_title(column)\n",
    "\n",
    "plt.show()"
   ]
  },
  {
   "cell_type": "markdown",
   "id": "16a8339f-2771-494b-bb7e-5a6a2ad9c886",
   "metadata": {},
   "source": [
    "## 3.2 Analise Bivariada"
   ]
  },
  {
   "cell_type": "code",
   "execution_count": null,
   "id": "b419fb37-e862-41f6-97ef-1c19020b84ce",
   "metadata": {},
   "outputs": [],
   "source": [
    "plt.figure(figsize=(9,12))\n",
    "\n",
    "#Category\n",
    "plt.subplot(2,1,1)\n",
    "sns.barplot(df1, x='category', y='actual_price')\n",
    "plt.title('Preço Médio por Categoria')\n",
    "plt.xlabel(\"Categoria\")\n",
    "plt.ylabel(\"Preço\")\n",
    "\n",
    "#Subcategory\n",
    "plt.subplot(2,1,2)\n",
    "sns.barplot(df1, x='actual_price', y='sub_category', orient='horizontal')\n",
    "plt.title('Preço Médio por Subcategoria')\n",
    "plt.xlabel(\"Preço\")\n",
    "plt.ylabel(\"Sub Categoria\")\n",
    "\n",
    "\n",
    "plt.tight_layout()"
   ]
  },
  {
   "cell_type": "code",
   "execution_count": null,
   "id": "eec8b4af-8c57-4e76-a2ff-a9862f62a96e",
   "metadata": {},
   "outputs": [],
   "source": [
    "plt.figure(figsize=(17,7))\n",
    "\n",
    "#Sub Category vendas\n",
    "plt.subplot(1,2,1)\n",
    "top5_subcat = df1['sub_category'].value_counts().iloc[:5]\n",
    "top5_subcat = pd.DataFrame(top5_subcat)\n",
    "sns.barplot(top5_subcat,x='count', y='sub_category', orient='horizontal')\n",
    "plt.title(\"Nº Vendas por Sub Categoria\")\n",
    "\n",
    "#Category Vendas\n",
    "plt.subplot(1,2,2)\n",
    "top3_cat = df1['category'].value_counts()\n",
    "top3_cat = pd.DataFrame(top3_cat)\n",
    "sns.barplot(top3_cat, x='count', y='category', orient='horizontal')\n",
    "plt.title(\"Nº Vendas por Categoria\")\n",
    "\n",
    "plt.tight_layout()"
   ]
  },
  {
   "cell_type": "code",
   "execution_count": null,
   "id": "7cc8c0eb-d00c-43da-824e-f5495b5f813e",
   "metadata": {},
   "outputs": [],
   "source": [
    "plt.figure(figsize=(15,6))\n",
    "\n",
    "#top 10 Brands\n",
    "plt.subplot(1,2,1)\n",
    "top10_brands = df1['brand'].value_counts().iloc[:10].index\n",
    "top_df = df1.loc[df1['brand'].isin(top10_brands),:]\n",
    "sns.barplot(top_df, y='brand', x='actual_price', orient='horizontal')\n",
    "plt.title(\"Top 10 Marcas Mais Vendidas\")\n",
    "plt.xlabel(\"Nº vendas\")\n",
    "plt.ylabel(\"Vendedor\")\n",
    "\n",
    "#top 10 Sellers\n",
    "plt.subplot(1,2,2)\n",
    "top10_seller = df1['seller'].value_counts().iloc[:10].index\n",
    "top_df_seller = df1.loc[df1['seller'].isin(top10_seller),:]\n",
    "sns.barplot(top_df_seller, y='seller', x='actual_price', orient='horizontal')\n",
    "plt.title(\"Top 10 Vendedores\")\n",
    "plt.xlabel(\"Nº Vendas\")\n",
    "plt.ylabel(\"Vendedor\")\n",
    "\n",
    "plt.tight_layout()"
   ]
  },
  {
   "cell_type": "code",
   "execution_count": null,
   "id": "176a8f47-eb53-45fa-bb09-c14129655615",
   "metadata": {},
   "outputs": [],
   "source": [
    "plt.figure(figsize=(15,9))\n",
    "\n",
    "#Plotor todos os tipos de tecidos e Sizes\n",
    "plt.subplot(2,3,1)\n",
    "sns.barplot(df1, y='actual_price', x='has_polyester')\n",
    "\n",
    "plt.subplot(2,3,2)\n",
    "sns.barplot(df1, y='actual_price', x='has_cotton')\n",
    "\n",
    "plt.subplot(2,3,3)\n",
    "sns.barplot(df1, y='actual_price', x='has_lycra')\n",
    "\n",
    "plt.subplot(2,3,4)\n",
    "sns.barplot(df1, y='actual_price', x='is_slim')\n",
    "\n",
    "plt.subplot(2,3,5)\n",
    "sns.barplot(df1, y='actual_price', x='is_regular')\n",
    "\n",
    "plt.subplot(2,3,6)\n",
    "sns.barplot(df1, y='actual_price', x='is_fit')"
   ]
  },
  {
   "cell_type": "code",
   "execution_count": null,
   "id": "bd167c34-dd17-48c2-bfd0-b4129a347b30",
   "metadata": {},
   "outputs": [],
   "source": [
    "#Origem de fabricação da roupa\n",
    "sns.barplot(df1, y='COUNTRY OF ORIGIN', x='actual_price', orient='horizontal')\n",
    "plt.title(\"Preço por País de Origem\")\n",
    "plt.xlabel(\"Preço\")\n",
    "plt.ylabel(\"País de Origem\")\n"
   ]
  },
  {
   "cell_type": "markdown",
   "id": "b1e04379-ea36-4b76-a5c7-9b8e9bffcf1f",
   "metadata": {},
   "source": [
    "## 3.3 Análise Multivariada"
   ]
  },
  {
   "cell_type": "code",
   "execution_count": null,
   "id": "7f029b8d-aa30-477a-8587-7ca2cffbc7a0",
   "metadata": {},
   "outputs": [],
   "source": [
    "#Correlação Numéricas\n",
    "plt.figure(figsize=(10,5))\n",
    "sns.heatmap(numerical_feat.corr(), annot=True, fmt='.2f', cmap='BrBG')\n",
    "plt.title(\"Matriz de Correlação Variáveis Numéricas\")"
   ]
  },
  {
   "cell_type": "code",
   "execution_count": null,
   "id": "546b6b14-9be0-422f-8b19-f894662cc381",
   "metadata": {},
   "outputs": [],
   "source": [
    "#Selecionar categóricas para usar no função CRAMER'S V\n",
    "df_cramer = df1.loc[:,['brand',\n",
    "                       'category',\n",
    "                       'sub_category',\n",
    "                       'actual_price', \n",
    "                       'TYPE',\n",
    "                       'seller',\n",
    "                       'FABRIC CARE', \n",
    "                       'STYLE CODE']]\n",
    "\n",
    "num_vars = len(df_cramer.columns)\n",
    "correlation_matrix = np.zeros((num_vars, num_vars))"
   ]
  },
  {
   "cell_type": "code",
   "execution_count": null,
   "id": "6819ed6e-90e1-4403-86fc-f7fdf2259ea3",
   "metadata": {},
   "outputs": [],
   "source": [
    "#Aplicar o Cramer's V para criar matriz de correlação\n",
    "for i in range(num_vars):\n",
    "    for j in range(num_vars):\n",
    "        if i != j:\n",
    "            corr = cramers_v(df_cramer.iloc[:, i], df_cramer.iloc[:, j])\n",
    "            correlation_matrix[i, j] = corr"
   ]
  },
  {
   "cell_type": "code",
   "execution_count": null,
   "id": "b812507f-da52-4199-8a45-5e218886079c",
   "metadata": {},
   "outputs": [],
   "source": [
    "plt.figure(figsize=(10,5))\n",
    "\n",
    "correlation_df = pd.DataFrame(correlation_matrix, columns=df_cramer.columns, index=df_cramer.columns)\n",
    "sns.heatmap(correlation_df.corr(), annot=True, fmt='.2f', cmap='BrBG')\n",
    "plt.title(\"Correlação Variáveis Categóricas\");"
   ]
  },
  {
   "cell_type": "markdown",
   "id": "e025121d-4d21-4c82-a378-35f348174332",
   "metadata": {},
   "source": [
    "## 3.4 Hipóteses"
   ]
  },
  {
   "cell_type": "markdown",
   "id": "e4e626bb-6b7e-4e7b-b0b4-fb3ac03d5df8",
   "metadata": {},
   "source": [
    "### Relação entre Média de Avaliação e Preço"
   ]
  },
  {
   "cell_type": "markdown",
   "id": "7918912b-67f0-4376-88e7-70deea449a3f",
   "metadata": {},
   "source": [
    "H1 - Produtos com um maior número de avaliações têm mais vendas e, portanto, preços mais elevados. (Resultado: FALSO)"
   ]
  },
  {
   "cell_type": "code",
   "execution_count": null,
   "id": "a1412e9a-4002-4f29-9ab6-9f83df97e025",
   "metadata": {},
   "outputs": [],
   "source": [
    "plt.figure(figsize=(15, 9))  \n",
    "\n",
    "#Number of Reviews\n",
    "plt.subplot(2, 2, 1) \n",
    "sns.scatterplot(data=df1.loc[df1['number_of_reviews'] > 0,:], x='number_of_reviews', y='actual_price')\n",
    "plt.title('Número de Avaliações e Preço')\n",
    "plt.xlabel(\"Número De Avaliações\")\n",
    "plt.ylabel(\"Preço\")\n",
    "\n",
    "plt.subplot(2, 2, 2)  \n",
    "sns.heatmap(df1.loc[df1['number_of_reviews'] > 0,['number_of_reviews', 'actual_price']].corr(), annot=True, cmap='BrBG')\n",
    "plt.title('Correlação')\n",
    "\n",
    "#--------------------------------------------------------------#\n",
    "\n",
    "#Average Rating\n",
    "plt.subplot(2, 2, 3) \n",
    "sns.scatterplot(data=df1.loc[df1['average_rating'] > 0,:], x='average_rating', y='actual_price')\n",
    "plt.title('Média de Avaliações e Preço')\n",
    "plt.xlabel(\"Média De Avaliações\")\n",
    "plt.ylabel(\"Preço\")\n",
    "\n",
    "\n",
    "\n",
    "plt.subplot(2, 2, 4)  \n",
    "sns.heatmap(df1.loc[df1['average_rating'] > 0,['average_rating', 'actual_price']].corr(), annot=True, cmap='BrBG')\n",
    "plt.title('Correlação')\n",
    "\n",
    "plt.tight_layout()"
   ]
  },
  {
   "cell_type": "markdown",
   "id": "31d9178e-a2c7-4615-8f1c-b95ed2b6fd07",
   "metadata": {},
   "source": [
    "FALSO. Não temos uma correlação entre Avaliações e Preço."
   ]
  },
  {
   "cell_type": "markdown",
   "id": "8d62a17b-22bc-4ea9-8ac5-399e1451083c",
   "metadata": {},
   "source": [
    "### Relação entre Descrição e Preço"
   ]
  },
  {
   "cell_type": "markdown",
   "id": "0efd6453-31e8-4d62-a174-762fc2ecfac9",
   "metadata": {},
   "source": [
    "H2 - Produtos com mais Imagens e detalhes podem ter um preço mais elevado ou vender mais. (Resultado: VERDADEIRO)"
   ]
  },
  {
   "cell_type": "code",
   "execution_count": null,
   "id": "e91d428d-db61-47ae-8d00-0f2d87b98cb5",
   "metadata": {},
   "outputs": [],
   "source": [
    "plt.figure(figsize=(15, 9))  \n",
    "\n",
    "#Number Images\n",
    "plt.subplot(2, 2, 1) \n",
    "sns.scatterplot(data=df1, x='number_images', y='actual_price')\n",
    "plt.title('Número de Imagens e Preço')\n",
    "plt.xlabel(\"Número De Imagens\")\n",
    "plt.ylabel(\"Preço\")\n",
    "\n",
    "plt.subplot(2, 2, 2)  \n",
    "sns.heatmap(df1[['number_images', 'actual_price']].corr(), annot=True, cmap='BrBG')\n",
    "plt.title('Correlação')\n",
    "\n",
    "#-----------------------------------------------------#\n",
    "\n",
    "#Product Details Count\n",
    "plt.subplot(2, 2, 3) \n",
    "sns.scatterplot(data=df1, x='product_details_count', y='actual_price')\n",
    "plt.title('Detalhes do Produtos e Preço')\n",
    "plt.xlabel(\"Quantidade de Detalhes\")\n",
    "plt.ylabel(\"Preço\")\n",
    "\n",
    "plt.subplot(2, 2, 4)  \n",
    "sns.heatmap(df1[['product_details_count', 'actual_price']].corr(), annot=True, cmap='BrBG')\n",
    "plt.title('Correlação')\n",
    "\n",
    "plt.tight_layout()"
   ]
  },
  {
   "cell_type": "markdown",
   "id": "2483e6e4-2e7b-4e8a-b600-7fac8906537c",
   "metadata": {},
   "source": [
    "VERDADEIRO. Temos uma Correlação positiva entre número imagens e o preço, indicadando que itens com preços elevados tendem a ter mais fotos e, consequentemente venderem mais."
   ]
  },
  {
   "cell_type": "markdown",
   "id": "b4e0bffc-eadc-4e0e-ab93-725c766c008e",
   "metadata": {},
   "source": [
    "### Relação entre Estoque e Preço"
   ]
  },
  {
   "cell_type": "markdown",
   "id": "8e57c035-7838-4501-8d88-fe987157b63f",
   "metadata": {},
   "source": [
    "H3 - Produtos que estão fora de estoque podem ser precificados de forma diferente. (Resultado: VERDADEIRO)"
   ]
  },
  {
   "cell_type": "code",
   "execution_count": null,
   "id": "5e5a6c74-261d-46cb-bc1f-be3497b21e4a",
   "metadata": {},
   "outputs": [],
   "source": [
    "sns.barplot(df1, x='out_of_stock', y='actual_price')\n",
    "plt.title(\"Relação entre Estoque e Preço\")\n",
    "plt.xlabel(\"Fora de Estoque\")\n",
    "plt.ylabel(\"Preço\")"
   ]
  },
  {
   "cell_type": "markdown",
   "id": "d92ef2ef-508a-458b-867c-4cf4f89dda70",
   "metadata": {},
   "source": [
    "VERDADEIRO. Vemos um ligeira diferença entre Produtos em estoque e sem. Pode ser uma estrategia da empresa aumentar os preços de produtos fora de estoque até esse estoque ser renovado."
   ]
  },
  {
   "cell_type": "markdown",
   "id": "a8b704e4-0a0d-45f0-accd-693634394508",
   "metadata": {},
   "source": [
    "## 3.5. Filtrar Colunas"
   ]
  },
  {
   "cell_type": "code",
   "execution_count": null,
   "id": "45520ec1-7c63-49e7-a25f-1d8d9f7d6fda",
   "metadata": {},
   "outputs": [],
   "source": [
    "cols_drop = ['_id','crawled_at','description','title']\n",
    "df1 = df1.drop(cols_drop, axis=1)\n",
    "\n",
    "#aplicar inflection para renomear colunas\n",
    "df1.columns = df1.columns.map(lambda x: inflection.parameterize(x, separator='_'))"
   ]
  },
  {
   "cell_type": "markdown",
   "id": "a3651da4-debc-4d5c-93a0-13b4b862dfd9",
   "metadata": {},
   "source": [
    "<a id='4'></a>\n",
    "# 4. PRÉ-PROCESSAMENTO"
   ]
  },
  {
   "cell_type": "code",
   "execution_count": null,
   "id": "ab3388c9-c24d-4b31-8722-69798f93b460",
   "metadata": {},
   "outputs": [],
   "source": [
    "X = df1.drop(['pid','actual_price'], axis=1).copy()\n",
    "y = df1['actual_price'].copy()"
   ]
  },
  {
   "cell_type": "code",
   "execution_count": null,
   "id": "6d54f2f8-bc70-443e-a152-e16bfe3eb71f",
   "metadata": {},
   "outputs": [],
   "source": [
    "#20% validação e 80% treino\n",
    "X_train, X_val, y_train, y_val = train_test_split(X, y, test_size=0.2, random_state=42)"
   ]
  },
  {
   "cell_type": "markdown",
   "id": "9fdcf72b-4de5-408b-aa29-90714b6be846",
   "metadata": {},
   "source": [
    "## 4.1 One-Hot Encoding"
   ]
  },
  {
   "cell_type": "code",
   "execution_count": null,
   "id": "e711f57d-95bd-4345-a11d-3eb1a6c4a038",
   "metadata": {},
   "outputs": [],
   "source": [
    "#One Hot Encoding\n",
    "onehot = ['category','out_of_stock']\n",
    "X_train = pd.get_dummies(X_train, columns=onehot)\n",
    "X_val = pd.get_dummies(X_val, columns=onehot)\n",
    "X = pd.get_dummies(X, columns=onehot)\n",
    "\n",
    "#Renomear as colunas criadas pelo OneHot Encoding\n",
    "X_train.columns = X_train.columns.map(lambda x: inflection.parameterize(x, separator='_'))\n",
    "X_val.columns = X_val.columns.map(lambda x: inflection.parameterize(x, separator='_'))\n",
    "X.columns = X.columns.map(lambda x: inflection.parameterize(x, separator='_'))"
   ]
  },
  {
   "cell_type": "code",
   "execution_count": null,
   "id": "dde2470a-032e-445c-95ef-614df4c70a51",
   "metadata": {},
   "outputs": [],
   "source": [
    "X_train.shape, X_val.shape"
   ]
  },
  {
   "cell_type": "markdown",
   "id": "609770c0-cbd2-41b8-9c5b-13cb7c82aceb",
   "metadata": {},
   "source": [
    "## 4.2 Target Encoding"
   ]
  },
  {
   "cell_type": "code",
   "execution_count": null,
   "metadata": {},
   "outputs": [],
   "source": [
    "X_train.columns"
   ]
  },
  {
   "cell_type": "code",
   "execution_count": null,
   "id": "2357302d-1406-485f-998f-d5e335f7c4f4",
   "metadata": {},
   "outputs": [],
   "source": [
    "# Target Encoding (para as features do tipo string)\n",
    "te_cols = ['brand','seller','sub_category',\"fabric\",\n",
    "                        \"brand_color\",\n",
    "                        \"closure\",\n",
    "                        \"other_details\",\n",
    "                        \"sales_package\",\n",
    "                        \"sleeve_type\",\n",
    "                        \"model_name\",\n",
    "                        \"fabric_care\",\n",
    "                        \"hooded\",\n",
    "                        \"pockets\",\n",
    "                        \"pack_of\",\n",
    "                        \"secondary_color\",\n",
    "                        \"style_code\",\n",
    "                        \"ideal_for\",\n",
    "                        \"reversible\",\n",
    "                        \"neck\",\n",
    "                        \"generic_name\",\n",
    "                        \"brand_fit\",\n",
    "                        \"pattern\",\n",
    "                        \"sleeve\",\n",
    "                        \"country_of_origin\",\n",
    "                        \"size\",\n",
    "                        \"fit\",\n",
    "                        \"number_of_contents_in_sales_package\",\n",
    "                        \"suitable_for\",\n",
    "                        \"occasion\",\n",
    "                        \"color\",\n",
    "                        \"neck_type\",\n",
    "                        \"type\"]\n",
    "\n",
    "#Tranformar as categorias em strings para aplicar Target Encoding\n",
    "X_train[te_cols] = X_train[te_cols].astype(str)\n",
    "X_val[te_cols] = X_val[te_cols].astype(str)\n",
    "X[te_cols] = X[te_cols].astype(str)\n",
    "\n",
    "#Criar Target Encoding\n",
    "te = TargetEncoder(target_type='continuous')\n",
    "\n",
    "#Aplicar fit_transform no X_train\n",
    "X_train[te_cols] = te.fit_transform(X_train[te_cols], y_train)\n",
    "\n",
    "#Transform nos outros\n",
    "X_val[te_cols] = te.transform(X_val[te_cols])\n",
    "X[te_cols] = te.transform(X[te_cols])"
   ]
  },
  {
   "cell_type": "markdown",
   "id": "114adbd8-a759-4714-b260-74150705e4d5",
   "metadata": {},
   "source": [
    "## 4.3 Kmeans"
   ]
  },
  {
   "cell_type": "code",
   "execution_count": null,
   "id": "f70e4cee",
   "metadata": {},
   "outputs": [],
   "source": [
    "# Monta primeira clusterização com: ['brand', 'sub_category', 'type']\n",
    "features = ['brand', 'sub_category', 'type']\n",
    "ret = kmeans_fit( X, features, 14, 18 )\n",
    "\n",
    "model_kmeans1 = ret[0]\n",
    "ss = ret[1]\n",
    "\n",
    "# Monta a variável KMEANS e inclui em X\n",
    "X['kmeans'] = model_kmeans1.labels_\n",
    "\n",
    "#INCLUI EM X_train e X_val\n",
    "X_kmeans_train = X_train.loc[ :, features]\n",
    "X_train['kmeans'] = model_kmeans1.predict( X_kmeans_train )\n",
    "\n",
    "X_kmeans_val = X_val.loc[ :, features]\n",
    "X_val['kmeans'] = model_kmeans1.predict( X_kmeans_val )"
   ]
  },
  {
   "cell_type": "code",
   "execution_count": null,
   "id": "759a0626",
   "metadata": {},
   "outputs": [],
   "source": [
    "# Monta segunda clusterização com: ['average_rating', 'brand_fit', 'sleeve']\n",
    "features = ['average_rating', 'brand_fit', 'sleeve']\n",
    "ret = kmeans_fit( X, features, 14, 21 )\n",
    "\n",
    "model_kmeans2 = ret[0]\n",
    "ss2 = ret[1]\n",
    "\n",
    "# Monta a variável KMEANS e inclui em X\n",
    "X['kmeans2'] = model_kmeans2.labels_\n",
    "\n",
    "#INCLUI EM X_train e X_val\n",
    "X_kmeans_train = X_train.loc[ :, features]\n",
    "X_train['kmeans2'] = model_kmeans2.predict( X_kmeans_train )\n",
    "\n",
    "X_kmeans_val = X_val.loc[ :, features]\n",
    "X_val['kmeans2'] = model_kmeans2.predict( X_kmeans_val )"
   ]
  },
  {
   "cell_type": "code",
   "execution_count": null,
   "id": "c548741e",
   "metadata": {},
   "outputs": [],
   "source": [
    "# Monta terceira clusterização com: ['number_of_contents_in_sales_package', 'neck', 'average_rating']\n",
    "# OBS: possivelmente incluir também 'secondary_color'\n",
    "\n",
    "features = ['number_of_contents_in_sales_package', 'neck', 'average_rating']\n",
    "ret = kmeans_fit( X, features, 27, 30 )\n",
    "\n",
    "model_kmeans3 = ret[0]\n",
    "ss3 = ret[1]\n",
    "\n",
    "# Monta a variável KMEANS e inclui em X\n",
    "X['kmeans3'] = model_kmeans3.labels_\n",
    "\n",
    "#INCLUI EM X_train e X_val\n",
    "X_kmeans_train = X_train.loc[ :, features]\n",
    "X_train['kmeans3'] = model_kmeans3.predict( X_kmeans_train )\n",
    "\n",
    "X_kmeans_val = X_val.loc[ :, features]\n",
    "X_val['kmeans3'] = model_kmeans3.predict( X_kmeans_val )"
   ]
  },
  {
   "cell_type": "markdown",
   "id": "e1101818-2d82-4845-bb6f-b9422ac3a334",
   "metadata": {},
   "source": [
    "## 4.4 Transformação em Log"
   ]
  },
  {
   "cell_type": "code",
   "execution_count": null,
   "id": "d4478fd5-2d7e-452b-b28a-e9b493e823b4",
   "metadata": {},
   "outputs": [],
   "source": [
    "plt.figure(figsize=(12,4))\n",
    "\n",
    "plt.subplot(1,2,1)\n",
    "sns.histplot(df1['actual_price'], kde=True, bins=25)\n",
    "\n",
    "plt.subplot(1,2,2)\n",
    "sns.histplot(np.log1p(df1['actual_price']), kde=True, bins=25)"
   ]
  },
  {
   "cell_type": "code",
   "execution_count": null,
   "id": "fb6d4f67-f9ba-45e6-84f9-880ef84d9690",
   "metadata": {},
   "outputs": [],
   "source": [
    "#normalizar y\n",
    "y = np.log1p( y )\n",
    "y_train = np.log1p( y_train )\n",
    "y_val = np.log1p( y_val )"
   ]
  },
  {
   "cell_type": "markdown",
   "id": "8bad1c59-d33d-4e2f-b2f2-d6ea772e6113",
   "metadata": {},
   "source": [
    "## 4.5 Feature Importance"
   ]
  },
  {
   "cell_type": "code",
   "execution_count": null,
   "id": "d2bd4845-03fb-45e9-b66d-06ecbc804d3e",
   "metadata": {},
   "outputs": [],
   "source": [
    "#Juntar X_train e X_val normalizados\n",
    "X_full = pd.concat([X_train, X_val])\n",
    "y_full = pd.concat([y_train, y_val])"
   ]
  },
  {
   "cell_type": "code",
   "execution_count": null,
   "id": "e8d9ef53",
   "metadata": {},
   "outputs": [],
   "source": [
    "# Observar se alguma feature permanece com string\n",
    "\n",
    "X_full.sample(5).T"
   ]
  },
  {
   "cell_type": "code",
   "execution_count": null,
   "id": "cf7459b7-9b82-469e-a019-1dea2ccf9348",
   "metadata": {},
   "outputs": [],
   "source": [
    "#<odelo Random Forest\n",
    "rf = RandomForestRegressor(n_estimators=100, random_state=42, n_jobs=1) \n",
    "\n",
    "#Treinamento\n",
    "rf.fit(X_full, y_full)\n",
    "\n",
    "#Obtenha a importância das características\n",
    "feature_importance = rf.feature_importances_\n",
    "\n",
    "#DataFrame para facilitar a visualização\n",
    "feature_importance_df = pd.DataFrame({'Feature': X_full.columns, 'Importance': feature_importance})\n",
    "\n",
    "#Características com base na importância\n",
    "feature_importance_df = feature_importance_df.sort_values(by='Importance', ascending=False)\n",
    "\n",
    "#Gráfico de barras\n",
    "plt.figure(figsize=(15, 9))\n",
    "plt.barh(feature_importance_df['Feature'], feature_importance_df['Importance'])\n",
    "plt.xlabel('Importância da Característica')\n",
    "plt.ylabel('Característica')\n",
    "plt.title('Importância das Características - Random Forest')\n",
    "plt.show()"
   ]
  },
  {
   "cell_type": "markdown",
   "id": "487f1205-b9ae-4652-8a1d-cd37119942f9",
   "metadata": {},
   "source": [
    "<a id='5'></a>\n",
    "# 5. MACHINE LEARNING"
   ]
  },
  {
   "cell_type": "markdown",
   "id": "3241cae7",
   "metadata": {},
   "source": [
    "## 5.0 First Trial"
   ]
  },
  {
   "cell_type": "markdown",
   "id": "50b2e6e4-7c03-4798-8fb9-4fd1fdbef683",
   "metadata": {},
   "source": [
    "### Regressão Linear"
   ]
  },
  {
   "cell_type": "code",
   "execution_count": null,
   "id": "cbc0c5ac-1230-4135-942c-750435385ffa",
   "metadata": {},
   "outputs": [],
   "source": [
    "#Instaciar modelo\n",
    "lr = LinearRegression()\n",
    "\n",
    "#FIT PREDICT\n",
    "lr.fit(X_train, y_train)\n",
    "y_pred_lr = lr.predict(X_val)"
   ]
  },
  {
   "cell_type": "code",
   "execution_count": null,
   "id": "40ccd585-75ed-43d5-9d77-3c7bc00aa5cd",
   "metadata": {},
   "outputs": [],
   "source": [
    "lr_metrics = compute_metrics('LinearRegression', y_pred_lr, y_val)\n",
    "lr_metrics"
   ]
  },
  {
   "cell_type": "markdown",
   "id": "bee34e95-a3f5-4f93-a0a5-9bfe636b57e8",
   "metadata": {},
   "source": [
    "### XGBoost"
   ]
  },
  {
   "cell_type": "code",
   "execution_count": null,
   "id": "cb5a58a6-032a-4e91-a251-e9c23ffaf607",
   "metadata": {},
   "outputs": [],
   "source": [
    "#Instaciar modelo\n",
    "xgb = XGBRegressor()\n",
    "\n",
    "#FIT PREDICT\n",
    "xgb.fit(X_train, y_train)\n",
    "y_pred_val = xgb.predict(X_val)"
   ]
  },
  {
   "cell_type": "code",
   "execution_count": null,
   "id": "bf9674e0-cbe8-4c63-a699-c4240fa09e63",
   "metadata": {},
   "outputs": [],
   "source": [
    "xgb_metrics = compute_metrics('XGBoost', y_pred_val, y_val)\n",
    "xgb_metrics"
   ]
  },
  {
   "cell_type": "markdown",
   "id": "2b9e2b39-77a6-438c-9a70-b71c9dd4af02",
   "metadata": {},
   "source": [
    "### Catboost"
   ]
  },
  {
   "cell_type": "code",
   "execution_count": null,
   "id": "01b077f7-aa4f-4aee-8945-543a8377a8c0",
   "metadata": {
    "scrolled": true
   },
   "outputs": [],
   "source": [
    "#Instaciar modelo\n",
    "cat = CatBoostRegressor(verbose=False)\n",
    "\n",
    "#FIT PREDICT\n",
    "cat.fit(X_train, y_train)\n",
    "y_pred_cat = cat.predict(X_val)"
   ]
  },
  {
   "cell_type": "code",
   "execution_count": null,
   "id": "e73428d5-81d8-4395-9baa-5faa33c1c0e2",
   "metadata": {},
   "outputs": [],
   "source": [
    "cat_metrics = compute_metrics('CatBoost',y_pred_cat, y_val)\n",
    "cat_metrics"
   ]
  },
  {
   "cell_type": "markdown",
   "id": "8e0dd14d-f4ed-4d15-8ab4-b4d81fc6509d",
   "metadata": {},
   "source": [
    "### LightGBM"
   ]
  },
  {
   "cell_type": "code",
   "execution_count": null,
   "id": "d42ed18a-d073-439b-91c0-e4f39ac732be",
   "metadata": {},
   "outputs": [],
   "source": [
    "#Instaciar modelo\n",
    "lgb = LGBMRegressor()\n",
    "\n",
    "#FIT PREDICT\n",
    "lgb.fit(X_train, y_train)\n",
    "y_pred_lgb = lgb.predict(X_val)"
   ]
  },
  {
   "cell_type": "code",
   "execution_count": null,
   "id": "db34bdf2-5c31-4006-99b3-cf6838d2806f",
   "metadata": {},
   "outputs": [],
   "source": [
    "lgb_metrics = compute_metrics('LightGBM',y_pred_lgb, y_val)\n",
    "lgb_metrics"
   ]
  },
  {
   "cell_type": "markdown",
   "id": "882fbe3f-0a75-40b6-8964-c5afccbff413",
   "metadata": {},
   "source": [
    "### Random Forest"
   ]
  },
  {
   "cell_type": "code",
   "execution_count": null,
   "id": "4801bc39-dcc4-4202-ab14-87b87b75c341",
   "metadata": {},
   "outputs": [],
   "source": [
    "#Instaciar modelo\n",
    "rf = RandomForestRegressor(n_jobs=-1, random_state=58)\n",
    "\n",
    "#FIT PREDICT\n",
    "rf.fit(X_train, y_train)\n",
    "y_pred_rf = rf.predict(X_val)"
   ]
  },
  {
   "cell_type": "code",
   "execution_count": null,
   "id": "c0991047-8dba-4e2f-96bd-729d9d849ead",
   "metadata": {},
   "outputs": [],
   "source": [
    "rf_metrics = compute_metrics('RandomForest',y_pred_rf, y_val)\n",
    "rf_metrics"
   ]
  },
  {
   "cell_type": "markdown",
   "id": "9f427388-a711-4077-9a80-d8668d99c07f",
   "metadata": {},
   "source": [
    "### Ensemble"
   ]
  },
  {
   "cell_type": "code",
   "execution_count": null,
   "id": "af9dfb49-823c-438d-b604-1f5e4fa48f7c",
   "metadata": {},
   "outputs": [],
   "source": [
    "#Instaciar modelo\n",
    "voting_reg = VotingRegressor(\n",
    "    estimators=[\n",
    "        ('random_forest', rf),\n",
    "        ('catboost', cat),\n",
    "        ('xgboost', xgb),\n",
    "        ('lighgbm', lgb),\n",
    "        \n",
    "    ]\n",
    ")\n",
    "\n",
    "#FIT PREDICT\n",
    "voting_reg.fit(X_train, y_train)\n",
    "y_pred_vot = voting_reg.predict(X_val)\n",
    "\n",
    "#Calcular Metricas\n",
    "ensenble_metrics = compute_metrics('VotingRegressor', y_pred_vot, y_val)\n",
    "ensenble_metrics"
   ]
  },
  {
   "cell_type": "markdown",
   "id": "a4c488b9-938e-4930-b004-60d1c9bbeb06",
   "metadata": {},
   "source": [
    "### Resumo das métricas obtidas"
   ]
  },
  {
   "cell_type": "code",
   "execution_count": null,
   "id": "98dd6a4f-2997-45c4-a9ea-501998cba297",
   "metadata": {},
   "outputs": [],
   "source": [
    "#Juntar todas as metricas\n",
    "pd.concat([xgb_metrics, lgb_metrics, cat_metrics, rf_metrics, ensenble_metrics, lr_metrics]).sort_values(by='SMAPE').reset_index(drop=True)"
   ]
  },
  {
   "cell_type": "code",
   "execution_count": null,
   "id": "036d8733-dd9e-46f3-a379-b05ee1605417",
   "metadata": {},
   "outputs": [],
   "source": [
    "#Parametros usados na random forest\n",
    "rf.get_params()"
   ]
  },
  {
   "cell_type": "markdown",
   "id": "223be484-bce5-41f0-b5d5-40e16870c00d",
   "metadata": {},
   "source": [
    "## 5.1 Fine Tuning"
   ]
  },
  {
   "cell_type": "code",
   "execution_count": null,
   "id": "160d4be9-a210-49a3-b705-c37e750e395b",
   "metadata": {},
   "outputs": [],
   "source": [
    "#Definir função objetivo do Optuna\n",
    "def objective(trial):\n",
    "    params = {\n",
    "        'n_estimators': trial.suggest_int('n_estimators', 1045, 1055, 1),\n",
    "        'min_samples_split': 2,\n",
    "        'min_samples_leaf': 1,\n",
    "        \n",
    "    }\n",
    "    #Random Forest com os parâmetros otimizados\n",
    "    model = RandomForestRegressor(**params, n_jobs=-1, random_state=58)\n",
    "\n",
    "    #FIT PREDICT\n",
    "    model.fit(X_train, y_train)\n",
    "    y_pred = model.predict(X_val)\n",
    "\n",
    "    #SMAPE\n",
    "    smape_error = smape(np.expm1(y_pred), np.expm1(y_val))\n",
    "    \n",
    "    return smape_error"
   ]
  },
  {
   "cell_type": "code",
   "execution_count": null,
   "id": "5d01da43-767c-49e5-98ce-39c2f8ccdac6",
   "metadata": {},
   "outputs": [],
   "source": [
    "study = optuna.create_study(direction='minimize')\n",
    "\n",
    "study.optimize(objective, n_trials=5)"
   ]
  },
  {
   "cell_type": "code",
   "execution_count": null,
   "id": "926b6df3-9893-43a7-9e85-e1b51cd538ca",
   "metadata": {},
   "outputs": [],
   "source": [
    "#Melhores Parametros\n",
    "optuna_best = study.best_params\n",
    "optuna_best"
   ]
  },
  {
   "cell_type": "code",
   "execution_count": null,
   "id": "5a180b43-e79e-411a-a018-eee1fee29e40",
   "metadata": {
    "scrolled": true
   },
   "outputs": [],
   "source": [
    "fig = optuna.visualization.plot_slice(study)\n",
    "fig.update_layout(template='plotly_dark', title='<b>Slice Plot', title_x=0.2)"
   ]
  },
  {
   "cell_type": "code",
   "execution_count": null,
   "id": "277a053e-9767-4975-9dbf-6de43e3eada6",
   "metadata": {},
   "outputs": [],
   "source": [
    "fig = optuna.visualization.plot_optimization_history(study)\n",
    "fig.update_layout(template='plotly_dark', title='<b>Optimization History Plot', title_x=0.5)"
   ]
  },
  {
   "cell_type": "code",
   "execution_count": null,
   "id": "5384ff31-e43d-4b8e-a75f-4de730685443",
   "metadata": {},
   "outputs": [],
   "source": [
    "fig = optuna.visualization.plot_param_importances(study)\n",
    "fig.update_layout(template='plotly_dark', title='<b>Hyperparameter Importances', title_x=0.5)"
   ]
  },
  {
   "cell_type": "markdown",
   "id": "87582459-cba2-494e-b913-e99fb8d47f11",
   "metadata": {},
   "source": [
    "<a id='6'></a>\n",
    "# 6. PREVISÃO TESTE"
   ]
  },
  {
   "cell_type": "markdown",
   "id": "c8840b14",
   "metadata": {},
   "source": [
    "## 6.1 Prepara para submissão"
   ]
  },
  {
   "cell_type": "code",
   "execution_count": null,
   "id": "175feafc-ae58-48b6-980a-f98422e012d1",
   "metadata": {},
   "outputs": [],
   "source": [
    "#Modelo Otimizado\n",
    "n_est = optuna_best.get('n_estimators')\n",
    "rf = RandomForestRegressor(n_jobs=-1, random_state=58, n_estimators=n_est )\n",
    "n_est"
   ]
  },
  {
   "cell_type": "code",
   "execution_count": null,
   "id": "44647a8d-76e7-47e0-ba82-24d54cc1f315",
   "metadata": {},
   "outputs": [],
   "source": [
    "rf.fit(X_full, y_full)"
   ]
  },
  {
   "cell_type": "code",
   "execution_count": null,
   "id": "997e56cd-3da5-42b8-9a0e-749183e1f77f",
   "metadata": {},
   "outputs": [],
   "source": [
    "#Ler teste\n",
    "path = 'http://menezes.mendonca.nom.br/datasets/hackday6_cds/test.json'\n",
    "X_test_2 = pd.read_json(path, orient='split')"
   ]
  },
  {
   "cell_type": "code",
   "execution_count": null,
   "metadata": {},
   "outputs": [],
   "source": [
    "xxx\n",
    "X_test_2.sample(4).T"
   ]
  },
  {
   "cell_type": "code",
   "execution_count": null,
   "id": "979ebc37-5c0b-4fd7-9660-cc16797d2493",
   "metadata": {},
   "outputs": [],
   "source": [
    "#Limpar teste\n",
    "X_test_2 = clean_test(X_test_2, onehot, te )"
   ]
  },
  {
   "cell_type": "code",
   "execution_count": null,
   "id": "7657e63f-1f57-41c4-b76c-fdd32219ff0d",
   "metadata": {},
   "outputs": [],
   "source": [
    "# Inclui KMEANS em X_test_2\n",
    "X_kmeans1 = X_test_2.loc[ :, ['brand', 'sub_category', 'type'] ]\n",
    "X_test_2['kmeans'] = model_kmeans1.predict( X_kmeans1 )\n",
    "\n",
    "# Inclui 2º KMEANS\n",
    "X_kmeans2 = X_test_2.loc[ :, ['average_rating', 'brand_fit', 'sleeve'] ]\n",
    "X_test_2['kmeans2'] = model_kmeans2.predict( X_kmeans2 )\n",
    "\n",
    "# Inclui 3º KMEANS\n",
    "X_kmeans3 = X_test_2.loc[ :, ['number_of_contents_in_sales_package', 'neck', 'average_rating'] ]\n",
    "X_test_2['kmeans3'] = model_kmeans3.predict( X_kmeans3 )\n"
   ]
  },
  {
   "cell_type": "code",
   "execution_count": null,
   "id": "d213c08b-25e6-48b4-ac59-2f28c7912459",
   "metadata": {},
   "outputs": [],
   "source": [
    "#PREDITC\n",
    "y_pred_test = rf.predict(X_test_2)\n",
    "y_pred_test = np.expm1(y_pred_test)"
   ]
  },
  {
   "cell_type": "markdown",
   "id": "04079446-ff86-42e2-ac30-788305fe2ac6",
   "metadata": {},
   "source": [
    "## 6.2 Submission"
   ]
  },
  {
   "cell_type": "code",
   "execution_count": null,
   "id": "878ade0a-a20a-49fa-b678-640b34859030",
   "metadata": {},
   "outputs": [],
   "source": [
    "df_submission = make_submission(X_test_2, y_pred_test)\n",
    "df_submission"
   ]
  },
  {
   "cell_type": "code",
   "execution_count": null,
   "id": "3471c2ee-b559-4bbd-8c50-e9d4530ae847",
   "metadata": {},
   "outputs": [],
   "source": [
    "df_submission.to_csv('submission_mlmm_kmeans_1s2s.csv', index=False)"
   ]
  },
  {
   "cell_type": "markdown",
   "id": "19fbd69f-86e0-406f-b228-6a411140b64d",
   "metadata": {},
   "source": [
    "<a id='7'></a>\n",
    "# 7. PERFORMANCE DE NEGÓCIO"
   ]
  },
  {
   "cell_type": "markdown",
   "id": "a287a1ea-bb89-4760-8d78-c30fc62279ca",
   "metadata": {},
   "source": [
    "---\n",
    "\n",
    "## Premissas\n",
    "\n",
    "- Vamos considerar uma loja que vende um único produto: Jaquetas de Couro.\n",
    "- O custo total de cada jaqueta é de R\\\\$100,00.\n",
    "- Após a análise de elasticidade de preço, a loja decide que o preço ideal de venda é de R\\\\$150,00.\n",
    "\n",
    "## Sem a Otimização do Modelo\n",
    "\n",
    "- Suponhamos que a loja tenha estabelecido um preço de venda de R\\\\$150,00 para suas jaquetas de couro.\n",
    "- Sob essa precificação, a loja vende 1.000 unidades da jaqueta, totalizando R\\\\$150.000,00 em receita.\n",
    "- O lucro resultante é de R\\\\$50.000,00 (R\\\\$150.000,00 - R$100.000,00 em custos).\n",
    "\n",
    "## Com o Modelo\n",
    "\n",
    "Agora, vamos introduzir a otimização de preços com base em um modelo.\n",
    "\n",
    "- O modelo analisou a base de dados histórica e concluiu que o preço ideal para as jaquetas deveria ser de R\\\\$200,00.\n",
    "- Com uma margem de erro de 10% (baseada no treinamento do modelo), a loja pode confiantemente definir o preço em R\\\\$200,00.\n",
    "- Como resultado, as vendas não diminuirão significativamente; suponhamos que a loja venda cerca de 900 jaquetas a esse preço.\n",
    "- O lucro resultante é de R\\\\$90.000,00 (R\\\\$180.000,00 - R$90.000,00 em custos), um aumento substancial(80%) em relação à precificação anterior.\n",
    "  \n",
    "### Comparação de Cenários:\n",
    "\n",
    "Sem a otimização do modelo: Receita de R\\\\$150.000,00 e lucro de R\\\\$50.000,00.\n",
    "Com o modelo de otimização: Receita de R\\\\$180.000,00 e lucro de R\\\\$90.000,00.\n",
    "\n",
    "\n",
    "---"
   ]
  },
  {
   "cell_type": "markdown",
   "id": "b5d55710-921c-4bd8-968c-bb82c6344533",
   "metadata": {},
   "source": [
    "<a id='8'></a>\n",
    "# 8. PRÓXIMOS PASSOS"
   ]
  },
  {
   "cell_type": "markdown",
   "id": "876ffef2-fbd9-4929-ae03-eb9461d64e7a",
   "metadata": {},
   "source": [
    "- Melhorar features do product details\n",
    "- Implementar otimização baseada no estoque\n",
    "- Outras Features Engineering\n",
    "- Implementar outros modelos(Redes Neurais)"
   ]
  }
 ],
 "metadata": {
  "kernelspec": {
   "display_name": "Python 3 (ipykernel)",
   "language": "python",
   "name": "python3"
  },
  "language_info": {
   "codemirror_mode": {
    "name": "ipython",
    "version": 3
   },
   "file_extension": ".py",
   "mimetype": "text/x-python",
   "name": "python",
   "nbconvert_exporter": "python",
   "pygments_lexer": "ipython3",
   "version": "3.11.5"
  }
 },
 "nbformat": 4,
 "nbformat_minor": 5
}
